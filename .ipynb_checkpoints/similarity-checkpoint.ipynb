{
 "cells": [
  {
   "cell_type": "code",
   "execution_count": 72,
   "id": "6c360cf6",
   "metadata": {},
   "outputs": [],
   "source": [
    "import numpy as np\n",
    "from sklearn.metrics.pairwise import cosine_similarity "
   ]
  },
  {
   "cell_type": "code",
   "execution_count": 73,
   "id": "35d4f79e",
   "metadata": {},
   "outputs": [],
   "source": [
    "md = np.load('./md.npy').reshape(-1)\n",
    "md_n = np.load('./md_n.npy').reshape(-1)\n",
    "own = np.load('./own.npy').reshape(-1)\n",
    "anm = np.load('./anm.npy').reshape(-1)\n",
    "gnm = np.load('./gnm.npy').reshape(-1)\n",
    "sbnma = np.load('./sbnma.npy').reshape(-1)"
   ]
  },
  {
   "cell_type": "code",
   "execution_count": 74,
   "id": "a9094f89",
   "metadata": {},
   "outputs": [],
   "source": [
    "def cosine_similarity(x, y):\n",
    "    return np.dot(x, y) / (np.linalg.norm(x) * np.linalg.norm(y))"
   ]
  },
  {
   "cell_type": "code",
   "execution_count": 75,
   "id": "a06cfd6b",
   "metadata": {},
   "outputs": [
    {
     "data": {
      "text/plain": [
       "0.11588195613153988"
      ]
     },
     "execution_count": 75,
     "metadata": {},
     "output_type": "execute_result"
    }
   ],
   "source": [
    "cosine_similarity(md,own)"
   ]
  },
  {
   "cell_type": "code",
   "execution_count": 76,
   "id": "1a629000",
   "metadata": {},
   "outputs": [
    {
     "data": {
      "text/plain": [
       "0.8585494009189557"
      ]
     },
     "execution_count": 76,
     "metadata": {},
     "output_type": "execute_result"
    }
   ],
   "source": [
    "cosine_similarity(md,sbnma)"
   ]
  },
  {
   "cell_type": "code",
   "execution_count": 77,
   "id": "23b0c9f1",
   "metadata": {},
   "outputs": [
    {
     "data": {
      "text/plain": [
       "0.4855534463190985"
      ]
     },
     "execution_count": 77,
     "metadata": {},
     "output_type": "execute_result"
    }
   ],
   "source": [
    "cosine_similarity(md,anm)"
   ]
  },
  {
   "cell_type": "code",
   "execution_count": 78,
   "id": "d4a8cac0",
   "metadata": {},
   "outputs": [
    {
     "data": {
      "text/plain": [
       "0.46294482189121305"
      ]
     },
     "execution_count": 78,
     "metadata": {},
     "output_type": "execute_result"
    }
   ],
   "source": [
    "cosine_similarity(md,gnm)"
   ]
  },
  {
   "cell_type": "code",
   "execution_count": null,
   "id": "59b0ce9e",
   "metadata": {},
   "outputs": [],
   "source": []
  },
  {
   "cell_type": "code",
   "execution_count": null,
   "id": "84aef734",
   "metadata": {},
   "outputs": [],
   "source": []
  }
 ],
 "metadata": {
  "kernelspec": {
   "display_name": "Python 3",
   "language": "python",
   "name": "python3"
  },
  "language_info": {
   "codemirror_mode": {
    "name": "ipython",
    "version": 3
   },
   "file_extension": ".py",
   "mimetype": "text/x-python",
   "name": "python",
   "nbconvert_exporter": "python",
   "pygments_lexer": "ipython3",
   "version": "3.8.8"
  }
 },
 "nbformat": 4,
 "nbformat_minor": 5
}
