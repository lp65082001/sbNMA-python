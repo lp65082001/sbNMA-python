{
 "cells": [
  {
   "cell_type": "code",
   "execution_count": 2,
   "id": "dd8906a5",
   "metadata": {},
   "outputs": [],
   "source": [
    "import numpy as np\n",
    "from sklearn.metrics.pairwise import cosine_similarity"
   ]
  },
  {
   "cell_type": "code",
   "execution_count": 4,
   "id": "ac3ddef6",
   "metadata": {},
   "outputs": [],
   "source": [
    "md = np.load('./md.npy')\n",
    "own = np.load('./own.npy')\n",
    "anm = np.load('./anm.npy')\n",
    "gnm = np.load('./gnm.npy')"
   ]
  },
  {
   "cell_type": "code",
   "execution_count": 6,
   "id": "a82f2fef",
   "metadata": {},
   "outputs": [],
   "source": [
    "def cos_sim_2d(x, y):\n",
    "    norm_x = x / np.linalg.norm(x, axis=1, keepdims=True)\n",
    "    norm_y = y / np.linalg.norm(y, axis=1, keepdims=True)\n",
    "    return np.matmul(norm_x, norm_y.T)"
   ]
  },
  {
   "cell_type": "code",
   "execution_count": 8,
   "id": "2bb16eb7",
   "metadata": {},
   "outputs": [
    {
     "data": {
      "text/plain": [
       "0.055973604625649175"
      ]
     },
     "execution_count": 8,
     "metadata": {},
     "output_type": "execute_result"
    }
   ],
   "source": [
    "np.mean(cos_sim_2d(md,own))"
   ]
  },
  {
   "cell_type": "code",
   "execution_count": null,
   "id": "5cb5a6e5",
   "metadata": {},
   "outputs": [],
   "source": []
  }
 ],
 "metadata": {
  "kernelspec": {
   "display_name": "Python 3",
   "language": "python",
   "name": "python3"
  },
  "language_info": {
   "codemirror_mode": {
    "name": "ipython",
    "version": 3
   },
   "file_extension": ".py",
   "mimetype": "text/x-python",
   "name": "python",
   "nbconvert_exporter": "python",
   "pygments_lexer": "ipython3",
   "version": "3.8.8"
  }
 },
 "nbformat": 4,
 "nbformat_minor": 5
}
