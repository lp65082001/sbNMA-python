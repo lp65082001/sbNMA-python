{
 "cells": [
  {
   "cell_type": "code",
   "execution_count": 8,
   "id": "58f1dce0",
   "metadata": {},
   "outputs": [],
   "source": [
    "import numpy as np\n",
    "import parmed as pmd\n",
    "from parmed.charmm import CharmmParameterSet"
   ]
  },
  {
   "cell_type": "code",
   "execution_count": 9,
   "id": "66823ece",
   "metadata": {},
   "outputs": [],
   "source": [
    "psf = pmd.charmm.psf.CharmmPsfFile('./example/ubq.psf')"
   ]
  },
  {
   "cell_type": "code",
   "execution_count": 23,
   "id": "cf48973f",
   "metadata": {},
   "outputs": [
    {
     "data": {
      "text/plain": [
       "204"
      ]
     },
     "execution_count": 23,
     "metadata": {},
     "output_type": "execute_result"
    }
   ],
   "source": [
    "len(psf.impropers)"
   ]
  },
  {
   "cell_type": "code",
   "execution_count": 10,
   "id": "0432257e",
   "metadata": {},
   "outputs": [],
   "source": [
    "par = CharmmParameterSet('./par_file/par_all22_prot.prm')"
   ]
  },
  {
   "cell_type": "code",
   "execution_count": 20,
   "id": "197aab02",
   "metadata": {},
   "outputs": [
    {
     "ename": "KeyError",
     "evalue": "('C', 'CT1', 'NH1', 'O')",
     "output_type": "error",
     "traceback": [
      "\u001b[1;31m---------------------------------------------------------------------------\u001b[0m",
      "\u001b[1;31mKeyError\u001b[0m                                  Traceback (most recent call last)",
      "Input \u001b[1;32mIn [20]\u001b[0m, in \u001b[0;36m<cell line: 1>\u001b[1;34m()\u001b[0m\n\u001b[1;32m----> 1\u001b[0m \u001b[43mpar\u001b[49m\u001b[38;5;241;43m.\u001b[39;49m\u001b[43mimproper_types\u001b[49m\u001b[43m[\u001b[49m\u001b[43m(\u001b[49m\u001b[38;5;124;43m'\u001b[39;49m\u001b[38;5;124;43mC\u001b[39;49m\u001b[38;5;124;43m'\u001b[39;49m\u001b[43m,\u001b[49m\u001b[43m \u001b[49m\u001b[38;5;124;43m'\u001b[39;49m\u001b[38;5;124;43mCT1\u001b[39;49m\u001b[38;5;124;43m'\u001b[39;49m\u001b[43m,\u001b[49m\u001b[43m \u001b[49m\u001b[38;5;124;43m'\u001b[39;49m\u001b[38;5;124;43mNH1\u001b[39;49m\u001b[38;5;124;43m'\u001b[39;49m\u001b[43m,\u001b[49m\u001b[43m \u001b[49m\u001b[38;5;124;43m'\u001b[39;49m\u001b[38;5;124;43mO\u001b[39;49m\u001b[38;5;124;43m'\u001b[39;49m\u001b[43m)\u001b[49m\u001b[43m]\u001b[49m\n",
      "\u001b[1;31mKeyError\u001b[0m: ('C', 'CT1', 'NH1', 'O')"
     ]
    }
   ],
   "source": [
    "par.improper_types[('HE2', 'HE2', 'CE2', 'CE2')]"
   ]
  },
  {
   "cell_type": "code",
   "execution_count": null,
   "id": "ed5c3e64",
   "metadata": {},
   "outputs": [],
   "source": []
  }
 ],
 "metadata": {
  "kernelspec": {
   "display_name": "Python 3",
   "language": "python",
   "name": "python3"
  },
  "language_info": {
   "codemirror_mode": {
    "name": "ipython",
    "version": 3
   },
   "file_extension": ".py",
   "mimetype": "text/x-python",
   "name": "python",
   "nbconvert_exporter": "python",
   "pygments_lexer": "ipython3",
   "version": "3.8.8"
  }
 },
 "nbformat": 4,
 "nbformat_minor": 5
}
