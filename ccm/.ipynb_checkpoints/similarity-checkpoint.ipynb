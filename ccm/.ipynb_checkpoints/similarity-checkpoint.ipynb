{
 "cells": [
  {
   "cell_type": "code",
   "execution_count": 1,
   "id": "31fc6105",
   "metadata": {},
   "outputs": [],
   "source": [
    "import numpy as np\n",
    "from sklearn.metrics.pairwise import cosine_similarity "
   ]
  },
  {
   "cell_type": "code",
   "execution_count": 2,
   "id": "b01ecec8",
   "metadata": {},
   "outputs": [],
   "source": [
    "md = np.load('../ccm/md.npy').reshape(-1)\n",
    "own = np.load('../ccm/own.npy').reshape(-1)\n",
    "anm = np.load('../ccm/anm.npy').reshape(-1)\n",
    "gnm = np.load('../ccm/gnm.npy').reshape(-1)\n",
    "sbnma = np.load('../ccm/sbnma.npy').reshape(-1)"
   ]
  },
  {
   "cell_type": "code",
   "execution_count": 3,
   "id": "841a10ae",
   "metadata": {},
   "outputs": [],
   "source": [
    "def cosine_similarity(x, y):\n",
    "    return np.dot(x, y) / (np.linalg.norm(x) * np.linalg.norm(y))"
   ]
  },
  {
   "cell_type": "code",
   "execution_count": 4,
   "id": "4ebba351",
   "metadata": {},
   "outputs": [
    {
     "data": {
      "text/plain": [
       "0.11588195613153988"
      ]
     },
     "execution_count": 4,
     "metadata": {},
     "output_type": "execute_result"
    }
   ],
   "source": [
    "cosine_similarity(md,own)"
   ]
  },
  {
   "cell_type": "code",
   "execution_count": 5,
   "id": "f15185db",
   "metadata": {},
   "outputs": [
    {
     "data": {
      "text/plain": [
       "0.8585494009189557"
      ]
     },
     "execution_count": 5,
     "metadata": {},
     "output_type": "execute_result"
    }
   ],
   "source": [
    "cosine_similarity(md,sbnma)"
   ]
  },
  {
   "cell_type": "code",
   "execution_count": 6,
   "id": "32244d67",
   "metadata": {},
   "outputs": [
    {
     "data": {
      "text/plain": [
       "0.4855534463190985"
      ]
     },
     "execution_count": 6,
     "metadata": {},
     "output_type": "execute_result"
    }
   ],
   "source": [
    "cosine_similarity(md,anm)"
   ]
  },
  {
   "cell_type": "code",
   "execution_count": 7,
   "id": "d62e4a80",
   "metadata": {},
   "outputs": [
    {
     "data": {
      "text/plain": [
       "0.46294482189121305"
      ]
     },
     "execution_count": 7,
     "metadata": {},
     "output_type": "execute_result"
    }
   ],
   "source": [
    "cosine_similarity(md,gnm)"
   ]
  },
  {
   "cell_type": "code",
   "execution_count": null,
   "id": "acc539ea",
   "metadata": {},
   "outputs": [],
   "source": []
  },
  {
   "cell_type": "code",
   "execution_count": null,
   "id": "5aa1e816",
   "metadata": {},
   "outputs": [],
   "source": []
  }
 ],
 "metadata": {
  "kernelspec": {
   "display_name": "Python 3",
   "language": "python",
   "name": "python3"
  },
  "language_info": {
   "codemirror_mode": {
    "name": "ipython",
    "version": 3
   },
   "file_extension": ".py",
   "mimetype": "text/x-python",
   "name": "python",
   "nbconvert_exporter": "python",
   "pygments_lexer": "ipython3",
   "version": "3.8.8"
  }
 },
 "nbformat": 4,
 "nbformat_minor": 5
}
