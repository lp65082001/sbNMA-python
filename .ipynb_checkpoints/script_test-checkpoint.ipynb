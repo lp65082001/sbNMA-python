{
 "cells": [
  {
   "cell_type": "code",
   "execution_count": 4,
   "id": "c7fe084d",
   "metadata": {},
   "outputs": [],
   "source": [
    "import parmed as pmd"
   ]
  },
  {
   "cell_type": "code",
   "execution_count": null,
   "id": "9922b236",
   "metadata": {},
   "outputs": [],
   "source": [
    "psf = pmd.charmm.psf.CharmmPsfFile('./example/mutation_12_ARG_type14_2_1.psf')"
   ]
  },
  {
   "cell_type": "code",
   "execution_count": null,
   "id": "8de478f4",
   "metadata": {},
   "outputs": [],
   "source": []
  }
 ],
 "metadata": {
  "kernelspec": {
   "display_name": "Python 3",
   "language": "python",
   "name": "python3"
  },
  "language_info": {
   "codemirror_mode": {
    "name": "ipython",
    "version": 3
   },
   "file_extension": ".py",
   "mimetype": "text/x-python",
   "name": "python",
   "nbconvert_exporter": "python",
   "pygments_lexer": "ipython3",
   "version": "3.8.8"
  }
 },
 "nbformat": 4,
 "nbformat_minor": 5
}
