{
 "cells": [
  {
   "cell_type": "code",
   "execution_count": 2,
   "id": "16e7f747",
   "metadata": {},
   "outputs": [],
   "source": [
    "import numpy as np\n",
    "import pandas as pd"
   ]
  },
  {
   "cell_type": "code",
   "execution_count": 35,
   "id": "bad12b21",
   "metadata": {},
   "outputs": [],
   "source": [
    "traj = pd.read_csv('./ca_pos.txt',sep = ' ',header=None).values[:,2:-1]"
   ]
  },
  {
   "cell_type": "code",
   "execution_count": 37,
   "id": "57f922a5",
   "metadata": {},
   "outputs": [],
   "source": [
    "total_traj = []\n",
    "for i in range(20):\n",
    "    total_traj.append(traj[0+76*i:76+76*i,:])\n",
    "total_traj = np.array(total_traj)"
   ]
  },
  {
   "cell_type": "code",
   "execution_count": 39,
   "id": "0b732524",
   "metadata": {},
   "outputs": [],
   "source": [
    "av_pos = np.mean(total_traj,axis=0)"
   ]
  },
  {
   "cell_type": "code",
   "execution_count": 42,
   "id": "c658020b",
   "metadata": {},
   "outputs": [
    {
     "data": {
      "text/plain": [
       "(20, 76, 3)"
      ]
     },
     "execution_count": 42,
     "metadata": {},
     "output_type": "execute_result"
    }
   ],
   "source": [
    "vec_list = (total_traj - av_pos)"
   ]
  },
  {
   "cell_type": "code",
   "execution_count": null,
   "id": "2ac44c06",
   "metadata": {},
   "outputs": [],
   "source": []
  }
 ],
 "metadata": {
  "kernelspec": {
   "display_name": "Python 3",
   "language": "python",
   "name": "python3"
  },
  "language_info": {
   "codemirror_mode": {
    "name": "ipython",
    "version": 3
   },
   "file_extension": ".py",
   "mimetype": "text/x-python",
   "name": "python",
   "nbconvert_exporter": "python",
   "pygments_lexer": "ipython3",
   "version": "3.8.8"
  }
 },
 "nbformat": 4,
 "nbformat_minor": 5
}
