{
 "cells": [
  {
   "cell_type": "code",
   "execution_count": 46,
   "id": "58f1dce0",
   "metadata": {},
   "outputs": [],
   "source": [
    "from sympy import symbols, acos, diff, sin, cos, lambdify\n",
    "import numpy as np\n",
    "import math"
   ]
  },
  {
   "cell_type": "code",
   "execution_count": 47,
   "id": "28aef371",
   "metadata": {},
   "outputs": [],
   "source": [
    "xi,yi,zi,xj,yj,zj,xk,yk,zk,xl,yl,zl,k = symbols('xi yi zi xj yj zj xk yk zk xl yl zl k', real=True)"
   ]
  },
  {
   "cell_type": "code",
   "execution_count": 48,
   "id": "66823ece",
   "metadata": {},
   "outputs": [],
   "source": [
    "phi = ((((yj-yi)*(zk-zj)-(zj-zi)*(yk-yj))*((yk-yj)*(zl-zk)-(zk-zj)*(yl-yk)))+(((zj-zi)*(xk-xj)-(xj-xi)*(zk-zj))*((zk-zj)*(xl-xk)-(xk-xj)*(zl-zk)))\n",
    "               +(((xj-xi)*(yk-yj)-(yj-yi)*(xk-xj))*((xk-xj)*(yl-yk)-(yk-yj)*(xl-xk))))/((((yj-yi)*(zk-zj)-(zj-zi)*(yk-yj))**2+((zj-zi)*(xk-xj)-(xj-xi)*(zk-zj))**2+((xj-xi)*(yk-yj)-(yj-yi)*(xk-xj))**2)**0.5*\n",
    "                                                                                        (((yk-yj)*(zl-zk)-(zk-zj)*(yl-yk))**2+((zk-zj)*(xl-xk)-(xk-xj)*(zl-zk))**2+((yl-yk)-(yk-yj)*(xl-xk))**2)**0.5)"
   ]
  },
  {
   "cell_type": "code",
   "execution_count": 67,
   "id": "842bb192",
   "metadata": {},
   "outputs": [],
   "source": [
    "w1n=(((yj-yi)*(zk-zj)-(zj-zi)*(yk-yj))**2+((zj-zi)*(xk-xj)-(xj-xi)*(zk-zj))**2+((xj-xi)*(yk-yj)-(yj-yi)*(xk-xj))**2)**0.5\n",
    "w2n=(((yk-yj)*(zl-zk)-(zk-zj)*(yl-yk))**2+((zk-zj)*(xl-xk)-(xk-xj)*(zl-zk))**2+((xk-xj)*(yl-yk)-(yk-yj)*(xl-xk))**2)**0.5\n",
    "w1 = [((yj-yi)*(zk-zj)-(zj-zi)*(yk-yj))/w1n,((zj-zi)*(xk-xj)-(xj-xi)*(zk-zj))/w1n,((xj-xi)*(yk-yj)-(yj-yi)*(xk-xj))/w1n]\n",
    "w2 = [((yk-yj)*(zl-zk)-(zk-zj)*(yl-yk))/w2n,((zk-zj)*(xl-xk)-(xk-xj)*(zl-zk))/w2n,((xk-xj)*(yl-yk)-(yk-yj)*(xl-xk))/w2n]"
   ]
  },
  {
   "cell_type": "code",
   "execution_count": 68,
   "id": "53ae3927",
   "metadata": {},
   "outputs": [],
   "source": [
    "phi = acos((w1[0]*w2[0]+w1[1]*w2[1]+w1[2]*w2[2])/((w1[0]**2+w1[1]**2+w1[2]**2)**0.5*(w2[0]**2+w2[1]**2+w2[2]**2)**0.5))"
   ]
  },
  {
   "cell_type": "code",
   "execution_count": 49,
   "id": "03e0da13",
   "metadata": {},
   "outputs": [],
   "source": [
    "test = lambdify((xi,yi,zi,xj,yj,zj,xk,yk,zk,xl,yl,zl),(phi.diff(xi)*phi.diff(xi)),'numpy')"
   ]
  },
  {
   "cell_type": "code",
   "execution_count": 50,
   "id": "4012dd37",
   "metadata": {},
   "outputs": [],
   "source": [
    "c1 = np.array([27.34 , 24.43  , 2.614])\n",
    "c2 = np.array([26.266, 25.413,  2.842])\n",
    "c3 = np.array([25.112, 24.88  , 3.649])\n",
    "c4 = np.array([25.353 ,24.86  , 5.134])"
   ]
  },
  {
   "cell_type": "code",
   "execution_count": 57,
   "id": "1fd9a539",
   "metadata": {},
   "outputs": [
    {
     "data": {
      "text/plain": [
       "54.38399999999999"
      ]
     },
     "execution_count": 57,
     "metadata": {},
     "output_type": "execute_result"
    }
   ],
   "source": [
    "c1.sum(-1)"
   ]
  },
  {
   "cell_type": "code",
   "execution_count": 61,
   "id": "2e65cd01",
   "metadata": {},
   "outputs": [],
   "source": [
    "def calc_dihedral(u1, u2, u3, u4):\n",
    "    \"\"\" Calculate dihedral angle method. From bioPython.PDB\n",
    "    (adapted to np.array)\n",
    "    Calculate the dihedral angle between 4 vectors\n",
    "    representing 4 connected points. The angle is in\n",
    "    [-pi, pi].\n",
    "    \"\"\"\n",
    "\n",
    "    a1 = u2 - u1\n",
    "    a2 = u3 - u2\n",
    "    a3 = u4 - u3\n",
    "\n",
    "    v1 = np.cross(a1, a2)\n",
    "    print(v1)\n",
    "    print((v1 * v1).sum(-1)**0.5)\n",
    "    \n",
    "    v1 = v1 / (v1 * v1).sum(-1)**0.5\n",
    "    \n",
    "    v2 = np.cross(a2, a3)\n",
    "    v2 = v2 / (v2 * v2).sum(-1)**0.5\n",
    "    porm = np.sign((v1 * a3).sum(-1))\n",
    "    rad = np.arccos((v1*v2).sum(-1) / ((v1**2).sum(-1) * (v2**2).sum(-1))**0.5)\n",
    "    if not porm == 0:\n",
    "        rad = rad * porm\n",
    "\n",
    "    return rad,(v1*v2).sum(-1) / ((v1**2).sum(-1) * (v2**2).sum(-1))**0.5"
   ]
  },
  {
   "cell_type": "code",
   "execution_count": 62,
   "id": "6af0cb13",
   "metadata": {},
   "outputs": [],
   "source": [
    "def calc_dihedral2(p1,p2,p3,p4):\n",
    "    # Calculate coordinates for vectors q1, q2 and q3\n",
    "    q1 = np.subtract(p2,p1) # b - a\n",
    "    q2 = np.subtract(p3,p2) # c - b\n",
    "    q3 = np.subtract(p4,p3) # d - c\n",
    "    \n",
    "    # Calculate cross vectors\n",
    "    q1_x_q2 = np.cross(q1,q2)\n",
    "    q2_x_q3 = np.cross(q2,q3)\n",
    "\n",
    "    # Calculate normal vectors\n",
    "    n1 = q1_x_q2/np.sqrt(np.dot(q1_x_q2,q1_x_q2))\n",
    "    n2 = q2_x_q3/np.sqrt(np.dot(q2_x_q3,q2_x_q3))\n",
    "\n",
    "    \"\"\"Function to calculate orthogonal unit vectors\"\"\"\n",
    "    # Calculate unit vectors\n",
    "    u1 = n2\n",
    "    u3 = q2/(np.sqrt(np.dot(q2,q2)))\n",
    "    u2 = np.cross(u3,u1)\n",
    "\n",
    "    # Calculate cosine and sine\n",
    "    cos_theta = np.dot(n1,u1)\n",
    "    sin_theta = np.dot(n1,u2)\n",
    "    \n",
    "    # Calculate theta\n",
    "    theta = -math.atan2(sin_theta,cos_theta) # it is different from Fortran math.atan2(y,x)\n",
    "    theta_deg = np.degrees(theta)\n",
    "    # Show results\n",
    "    return theta_deg,theta"
   ]
  },
  {
   "cell_type": "code",
   "execution_count": 63,
   "id": "f02619c3",
   "metadata": {},
   "outputs": [
    {
     "name": "stdout",
     "output_type": "stream",
     "text": [
      "[0.914805 0.603606 1.706824]\n",
      "2.028412324513192\n",
      "(1.4026412441174954, 0.16736373976456023)\n",
      "(80.3654234589115, 1.4026412441174954)\n"
     ]
    }
   ],
   "source": [
    "print(calc_dihedral(c1,c2,c3,c4))\n",
    "print(calc_dihedral2(c1,c2,c3,c4))"
   ]
  },
  {
   "cell_type": "code",
   "execution_count": 69,
   "id": "71f47027",
   "metadata": {},
   "outputs": [
    {
     "data": {
      "text/latex": [
       "$\\displaystyle 1.40264124411749$"
      ],
      "text/plain": [
       "1.40264124411749"
      ]
     },
     "execution_count": 69,
     "metadata": {},
     "output_type": "execute_result"
    }
   ],
   "source": [
    "phi.subs(xi,c1[0]).subs(yi,c1[1]).subs(zi,c1[2]).subs(xj,c2[0]).subs(yj,c2[1]).subs(zj,c2[2]).subs(xk,c3[0]).subs(yk,c3[1]).subs(zk,c3[2]).subs(xl,c4[0]).subs(yl,c4[1]).subs(zl,c4[2])"
   ]
  },
  {
   "cell_type": "code",
   "execution_count": null,
   "id": "9a51c33d",
   "metadata": {},
   "outputs": [],
   "source": []
  },
  {
   "cell_type": "code",
   "execution_count": null,
   "id": "5e7d9d1c",
   "metadata": {},
   "outputs": [],
   "source": []
  }
 ],
 "metadata": {
  "kernelspec": {
   "display_name": "Python 3",
   "language": "python",
   "name": "python3"
  },
  "language_info": {
   "codemirror_mode": {
    "name": "ipython",
    "version": 3
   },
   "file_extension": ".py",
   "mimetype": "text/x-python",
   "name": "python",
   "nbconvert_exporter": "python",
   "pygments_lexer": "ipython3",
   "version": "3.8.8"
  }
 },
 "nbformat": 4,
 "nbformat_minor": 5
}
