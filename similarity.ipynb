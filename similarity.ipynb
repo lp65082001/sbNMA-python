{
 "cells": [
  {
   "cell_type": "code",
   "execution_count": 62,
   "id": "5212b53b",
   "metadata": {},
   "outputs": [],
   "source": [
    "import numpy as np\n",
    "from sklearn.metrics.pairwise import cosine_similarity "
   ]
  },
  {
   "cell_type": "code",
   "execution_count": 63,
   "id": "31ead609",
   "metadata": {},
   "outputs": [],
   "source": [
    "md = np.load('./md.npy').reshape(-1)\n",
    "md_n = np.load('./md_n.npy').reshape(-1)\n",
    "own = np.load('./own.npy').reshape(-1)\n",
    "anm = np.load('./anm.npy').reshape(-1)\n",
    "gnm = np.load('./gnm.npy').reshape(-1)"
   ]
  },
  {
   "cell_type": "code",
   "execution_count": 64,
   "id": "6fc652ab",
   "metadata": {},
   "outputs": [],
   "source": [
    "def cosine_similarity(x, y):\n",
    "    return np.dot(x, y) / (np.linalg.norm(x) * np.linalg.norm(y))"
   ]
  },
  {
   "cell_type": "code",
   "execution_count": 70,
   "id": "34f849b4",
   "metadata": {},
   "outputs": [
    {
     "data": {
      "text/plain": [
       "0.34137433899945063"
      ]
     },
     "execution_count": 70,
     "metadata": {},
     "output_type": "execute_result"
    }
   ],
   "source": [
    "cosine_similarity(md,own)"
   ]
  },
  {
   "cell_type": "code",
   "execution_count": 69,
   "id": "31aa62e3",
   "metadata": {},
   "outputs": [
    {
     "data": {
      "text/plain": [
       "0.44336700933371426"
      ]
     },
     "execution_count": 69,
     "metadata": {},
     "output_type": "execute_result"
    }
   ],
   "source": [
    "cosine_similarity(md_n,anm)"
   ]
  },
  {
   "cell_type": "code",
   "execution_count": 67,
   "id": "990c468f",
   "metadata": {},
   "outputs": [
    {
     "data": {
      "text/plain": [
       "0.5237252609397572"
      ]
     },
     "execution_count": 67,
     "metadata": {},
     "output_type": "execute_result"
    }
   ],
   "source": [
    "cosine_similarity(md_n,gnm)"
   ]
  },
  {
   "cell_type": "code",
   "execution_count": null,
   "id": "cd307f32",
   "metadata": {},
   "outputs": [],
   "source": []
  },
  {
   "cell_type": "code",
   "execution_count": null,
   "id": "8f548eba",
   "metadata": {},
   "outputs": [],
   "source": []
  }
 ],
 "metadata": {
  "kernelspec": {
   "display_name": "Python 3",
   "language": "python",
   "name": "python3"
  },
  "language_info": {
   "codemirror_mode": {
    "name": "ipython",
    "version": 3
   },
   "file_extension": ".py",
   "mimetype": "text/x-python",
   "name": "python",
   "nbconvert_exporter": "python",
   "pygments_lexer": "ipython3",
   "version": "3.8.8"
  }
 },
 "nbformat": 4,
 "nbformat_minor": 5
}
